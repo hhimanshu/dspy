{
 "cells": [
  {
   "cell_type": "code",
   "execution_count": 9,
   "id": "a5f9bd55",
   "metadata": {},
   "outputs": [
    {
     "name": "stdout",
     "output_type": "stream",
     "text": [
      "Note: you may need to restart the kernel to use updated packages.\n"
     ]
    }
   ],
   "source": [
    "%pip install -U -q pandas dspy datasets"
   ]
  },
  {
   "cell_type": "code",
   "execution_count": null,
   "id": "1877f4d3",
   "metadata": {},
   "outputs": [],
   "source": [
    "import dspy  \n",
    "  \n",
    "# Initialize ColBERTv2 with a URL to a ColBERT server  \n",
    "colbert = dspy.ColBERTv2(url='http://20.102.90.50:2017/wiki17_abstracts')  \n",
    "  \n",
    "# Configure DSPy to use this retriever as the default  \n",
    "dspy.configure(rm=colbert)  \n",
    "  \n",
    "# Use the retriever directly  \n",
    "results = colbert(\"What is capital of France\", k=3)  \n",
    "  \n",
    "# Or use it with a DSPy module  \n",
    "# retrieve = dspy.Retrieve(k=3)  \n",
    "# results = retrieve(\"What is retrieval-augmented generation?\")"
   ]
  },
  {
   "cell_type": "code",
   "execution_count": 8,
   "id": "bd74c497",
   "metadata": {},
   "outputs": [
    {
     "data": {
      "text/plain": [
       "[{'text': 'Capital (French magazine) | Capital is a monthly French economics and business magazine published in Paris, France.',\n",
       "  'pid': 3723041,\n",
       "  'rank': 1,\n",
       "  'score': 25.811302185058594,\n",
       "  'prob': 0.3812346890513862,\n",
       "  'long_text': 'Capital (French magazine) | Capital is a monthly French economics and business magazine published in Paris, France.'},\n",
       " {'text': 'Paris (disambiguation) | Paris is the largest city and capital of France.',\n",
       "  'pid': 1578992,\n",
       "  'rank': 2,\n",
       "  'score': 25.610862731933594,\n",
       "  'prob': 0.3119914283281822,\n",
       "  'long_text': 'Paris (disambiguation) | Paris is the largest city and capital of France.'},\n",
       " {'text': 'Paris | Paris (] ) is the capital and most populous city of France, with an administrative-limits area of 105 km2 and a 2015 population of 2,229,621. The city is a commune and department, and the capital-heart of the 12,012 km2 Île-de-France \"region\" (colloquially known as the \\'Paris Region\\'), whose 12,142,802 2016 population represents roughly 18 percent of the population of France. By the 17th century, Paris had become one of Europe\\'s major centres of finance, commerce, fashion, science, and the arts, a position that it retains still today. The Paris Region had a GDP of €649.6 billion (US $763.4 billion) in 2014, accounting for 30.4 percent of the GDP of France. According to official estimates, in 2013-14 the Paris Region had the third-highest GDP in the world and the largest regional GDP in the EU.',\n",
       "  'pid': 3193249,\n",
       "  'rank': 3,\n",
       "  'score': 25.593997955322266,\n",
       "  'prob': 0.3067738826204316,\n",
       "  'long_text': 'Paris | Paris (] ) is the capital and most populous city of France, with an administrative-limits area of 105 km2 and a 2015 population of 2,229,621. The city is a commune and department, and the capital-heart of the 12,012 km2 Île-de-France \"region\" (colloquially known as the \\'Paris Region\\'), whose 12,142,802 2016 population represents roughly 18 percent of the population of France. By the 17th century, Paris had become one of Europe\\'s major centres of finance, commerce, fashion, science, and the arts, a position that it retains still today. The Paris Region had a GDP of €649.6 billion (US $763.4 billion) in 2014, accounting for 30.4 percent of the GDP of France. According to official estimates, in 2013-14 the Paris Region had the third-highest GDP in the world and the largest regional GDP in the EU.'}]"
      ]
     },
     "execution_count": 8,
     "metadata": {},
     "output_type": "execute_result"
    }
   ],
   "source": [
    "results"
   ]
  },
  {
   "cell_type": "code",
   "execution_count": 22,
   "id": "ec5371a9",
   "metadata": {},
   "outputs": [
    {
     "name": "stdout",
     "output_type": "stream",
     "text": [
      "Context: Googleplex | The Googleplex is the corporate headquarters complex of Google, Inc. and its parent company Alphabet Inc., located at 1600 Amphitheatre Parkway in Mountain View, Santa Clara County, California, United States, near San Jose.\n",
      "\n",
      "Android lawn statues | The Android lawn statues are a series of large foam statues near the Googleplex (Google's headquarters) in Mountain View, California, currently located at 1981 Landings Drive. They are based on the code names for versions of Google's Android mobile operating system, which are named after desserts and sweet treats. These statues were originally located in front of Building 44, where the Android development team had its offices. However, they were moved to their present location a few blocks away (at some point before October 19, 2014), they are now next to the Google Visitor Center Beta which is open to Google employees and their guests. The Android statues remain a tourist attraction where visitors are encouraged to come take photos. The sculptures are mostly made by a company named Themendous.\n",
      "\n",
      "X (company) | X, an American semi-secret research-and-development facility founded by Google in January 2010 as Google X, operates as a subsidiary of Alphabet Inc. X has its headquarters about a mile and a half from Google's corporate headquarters, the Googleplex, in Mountain View, California.\n",
      "The closest park near Google Headquarters (the Googleplex) is Shoreline Park.\n"
     ]
    }
   ],
   "source": [
    "import dspy  \n",
    "from dspy.datasets import HotPotQA  \n",
    "  \n",
    "# Configure LM and RM  \n",
    "lm = dspy.LM('openai/gpt-4o-mini')  \n",
    "colbert = dspy.ColBERTv2(url='http://20.102.90.50:2017/wiki17_abstracts')  \n",
    "dspy.configure(lm=lm, rm=colbert)  \n",
    "  \n",
    "# Define a simple RAG module  \n",
    "class RAG(dspy.Module):  \n",
    "    def __init__(self, num_docs=3):  \n",
    "        super().__init__()  \n",
    "        self.retrieve = dspy.Retrieve(k=num_docs)  \n",
    "        self.generate = dspy.ChainOfThought(\"context, question -> answer\")  \n",
    "          \n",
    "    def forward(self, question):  \n",
    "        passages = self.retrieve(question).passages  \n",
    "        context = \"\\n\\n\".join(passages)  \n",
    "        print(f\"Context: {context}\")\n",
    "        return self.generate(context=context, question=question)  \n",
    "  \n",
    "# Use the RAG module  \n",
    "rag = RAG()  \n",
    "# result = rag(question=\"What is capital of France?\")  \n",
    "# result = rag(question=\"Where is yoga capital of the world?\")  \n",
    "result = rag(question=\"What is closest park near Google Headquarters?\")  \n",
    "print(result.answer)"
   ]
  },
  {
   "cell_type": "code",
   "execution_count": 23,
   "id": "a9f2cead",
   "metadata": {},
   "outputs": [
    {
     "data": {
      "text/plain": [
       "Prediction(\n",
       "    reasoning='The context provided does not specify the exact parks near the Googleplex. However, it is known that the Googleplex is located in Mountain View, California, which has several parks in the vicinity. One of the closest parks to the Googleplex is Shoreline Park, which is a large park offering various recreational activities and is located just a short distance away from the headquarters.',\n",
       "    answer='The closest park near Google Headquarters (the Googleplex) is Shoreline Park.'\n",
       ")"
      ]
     },
     "execution_count": 23,
     "metadata": {},
     "output_type": "execute_result"
    }
   ],
   "source": [
    "result"
   ]
  }
 ],
 "metadata": {
  "kernelspec": {
   "display_name": ".venv",
   "language": "python",
   "name": "python3"
  },
  "language_info": {
   "codemirror_mode": {
    "name": "ipython",
    "version": 3
   },
   "file_extension": ".py",
   "mimetype": "text/x-python",
   "name": "python",
   "nbconvert_exporter": "python",
   "pygments_lexer": "ipython3",
   "version": "3.13.3"
  }
 },
 "nbformat": 4,
 "nbformat_minor": 5
}
