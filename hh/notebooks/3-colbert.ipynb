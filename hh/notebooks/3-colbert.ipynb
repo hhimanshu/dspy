{
 "cells": [
  {
   "cell_type": "code",
   "execution_count": null,
   "id": "a5f9bd55",
   "metadata": {},
   "outputs": [],
   "source": [
    "%pip install -U -q pandas dspy datasets"
   ]
  },
  {
   "cell_type": "code",
   "execution_count": null,
   "id": "1877f4d3",
   "metadata": {},
   "outputs": [],
   "source": [
    "import dspy  \n",
    "  \n",
    "# Initialize ColBERTv2 with a URL to a ColBERT server  \n",
    "colbert = dspy.ColBERTv2(url='http://20.102.90.50:2017/wiki17_abstracts')  \n",
    "  \n",
    "# Configure DSPy to use this retriever as the default  \n",
    "dspy.configure(rm=colbert)  \n",
    "  \n",
    "# Use the retriever directly  \n",
    "results = colbert(\"What is capital of France\", k=3)  \n",
    "  \n",
    "# Or use it with a DSPy module  \n",
    "# retrieve = dspy.Retrieve(k=3)  \n",
    "# results = retrieve(\"What is retrieval-augmented generation?\")"
   ]
  },
  {
   "cell_type": "code",
   "execution_count": null,
   "id": "bd74c497",
   "metadata": {},
   "outputs": [],
   "source": [
    "results"
   ]
  },
  {
   "cell_type": "code",
   "execution_count": null,
   "id": "ec5371a9",
   "metadata": {},
   "outputs": [],
   "source": [
    "import dspy  \n",
    "from dspy.datasets import HotPotQA  \n",
    "  \n",
    "# Configure LM and RM  \n",
    "lm = dspy.LM('openai/gpt-4o-mini')  \n",
    "colbert = dspy.ColBERTv2(url='http://20.102.90.50:2017/wiki17_abstracts')  \n",
    "dspy.configure(lm=lm, rm=colbert)  \n",
    "  \n",
    "# Define a simple RAG module  \n",
    "class RAG(dspy.Module):  \n",
    "    def __init__(self, num_docs=3):  \n",
    "        super().__init__()  \n",
    "        self.retrieve = dspy.Retrieve(k=num_docs)  \n",
    "        self.generate = dspy.ChainOfThought(\"context, question -> answer\")  \n",
    "          \n",
    "    def forward(self, question):  \n",
    "        passages = self.retrieve(question).passages  \n",
    "        context = \"\\n\\n\".join(passages)  \n",
    "        print(f\"Context: {context}\")\n",
    "        return self.generate(context=context, question=question)  \n",
    "  \n",
    "# Use the RAG module  \n",
    "rag = RAG()  \n",
    "# result = rag(question=\"What is capital of France?\")  \n",
    "# result = rag(question=\"Where is yoga capital of the world?\")  \n",
    "result = rag(question=\"What is closest park near Google Headquarters?\")  \n",
    "print(result.answer)"
   ]
  },
  {
   "cell_type": "code",
   "execution_count": null,
   "id": "a9f2cead",
   "metadata": {},
   "outputs": [],
   "source": [
    "result"
   ]
  }
 ],
 "metadata": {
  "kernelspec": {
   "display_name": ".venv",
   "language": "python",
   "name": "python3"
  },
  "language_info": {
   "codemirror_mode": {
    "name": "ipython",
    "version": 3
   },
   "file_extension": ".py",
   "mimetype": "text/x-python",
   "name": "python",
   "nbconvert_exporter": "python",
   "pygments_lexer": "ipython3",
   "version": "3.13.3"
  }
 },
 "nbformat": 4,
 "nbformat_minor": 5
}
